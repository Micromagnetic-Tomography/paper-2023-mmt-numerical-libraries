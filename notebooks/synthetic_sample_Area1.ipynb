{
 "cells": [
  {
   "cell_type": "markdown",
   "id": "dbcd1ca1",
   "metadata": {},
   "source": [
    "# Imports"
   ]
  },
  {
   "cell_type": "code",
   "execution_count": 1,
   "id": "48a6f9fd",
   "metadata": {
    "tags": []
   },
   "outputs": [],
   "source": [
    "import requests, zipfile, io\n",
    "from pathlib import Path\n",
    "import numpy as np\n",
    "import matplotlib.pyplot as plt\n",
    "plt.style.use('adornmyplot.mplstyle')\n",
    "import matplotlib as mpl\n",
    "\n",
    "import pyvista as pv\n",
    "\n",
    "import mmt_dipole_cuboid_inversion as dci\n",
    "import mmt_dipole_cuboid_inversion.tools as dcit\n",
    "\n",
    "import mmt_multipole_inversion as minv\n",
    "import json"
   ]
  },
  {
   "cell_type": "markdown",
   "id": "a09d5622",
   "metadata": {},
   "source": [
    "# Data"
   ]
  },
  {
   "cell_type": "markdown",
   "id": "fd98ea75",
   "metadata": {},
   "source": [
    "We start downloading the data of de Groot et al. (2018)\\* from the public repository PANGAEA. The updated version of the data contains three areas that are pre-processed and where tomography and magnetometry coordinates are co-registered. We unzip the data and extract the contents.\n",
    "\n",
    "*de Groot, L.V., Fabian, K., Béguin, A., Reith, P., Barnhoorn, A., Hilgenkamp, H., 2018. List of grains and results of the Scanning SQUID Magnetometer (SSM) scan. URL: https://doi.org/10.1594/PANGAEA.886724*\n",
    "\n",
    "*de Groot, L.V., Fabian, K., Béguin, A., Reith, P., Barnhoorn, A., Hilgenkamp, H., 2018. Determining Individual Particle Magnetizations in Assemblages of Micrograins. Geophysical Research Letters 45, 2995–3000. URL: https://agupubs.onlinelibrary.wiley.com/doi/478*"
   ]
  },
  {
   "cell_type": "code",
   "execution_count": 2,
   "id": "6e640814",
   "metadata": {
    "tags": []
   },
   "outputs": [],
   "source": [
    "# DATA ------------------------------------------------------------------------\n",
    "\n",
    "# Download the data to this directory:\n",
    "data_dir = Path('deGroot2018_data')\n",
    "data_dir.mkdir(exist_ok=True)\n",
    "\n",
    "if not any(data_dir.iterdir()):\n",
    "    data_url = 'https://store.pangaea.de/Publications/deGroot-etal_2018/Micro-grain-data.zip'\n",
    "    r = requests.get(data_url)\n",
    "    # Pass the request output `r` (in byte-like format) to get a binary stream\n",
    "    # from a data piece in memory (buffer) using BytesIO -> like a file in mem\n",
    "    z = zipfile.ZipFile(io.BytesIO(r.content))\n",
    "    z.extractall(data_dir)\n",
    "\n",
    "# Now open the ZIP file with formatted data:\n",
    "z = zipfile.ZipFile(data_dir / 'V2_2021-04.zip')\n",
    "z.extractall(data_dir)"
   ]
  },
  {
   "cell_type": "markdown",
   "id": "bdf723b6",
   "metadata": {},
   "source": [
    "The following are the magnetization values reported by (de Groot et al., 2018), for the grains in Area 1 with unknown magnetizations:"
   ]
  },
  {
   "cell_type": "code",
   "execution_count": 3,
   "id": "c837f344",
   "metadata": {
    "tags": []
   },
   "outputs": [],
   "source": [
    "dG_Area1UMS = np.array([3544.3, 3923.7, 15346.8, 3770.7, 28147.8, 2845.9, 92191.2, 7154.4])\n",
    "dG_Area1UMS_anglesOld = [(75.7, -24.1), (198.6, -53.8), (255.2, -30.5), (116.3, 50.7), \n",
    "                         (26.7, 67.1), (138.3, -21.3), (101.9, 50.4), (249.2, 51.8)]\n",
    "dG_Area1UMS_m = np.array([(3134.8, 799.1, -1448.0), (-739.7, -2196.0, -3166.3),\n",
    "                          (-12790.5, -3376.5, -7779.9), (2141.7, -1059.0, 2917.1),\n",
    "                          (4905.7, 9774.3, 25936.3), (1762.9, -1980.3, -1034.5),\n",
    "                          (57489.5, -12129.5, 71042.6), (-4133.9, -1566.9, 5625.1)])\n",
    "\n",
    "# Compute the angles from dG's magnetizations\n",
    "m = np.copy(dG_Area1UMS_m)\n",
    "phi = np.arctan2(m[:, 1], m[:, 0])  # arctan(y / x)\n",
    "theta = np.arccos(m[:, 2] / np.linalg.norm(m, axis=1))  # arccos(z / r) ; r = sqrt(x^2 + y^2 + z^2)\n",
    "\n",
    "dG_Area1UMS_anglesNew = np.column_stack((np.rad2deg(phi), np.rad2deg(theta)))\n",
    "dG_Area1UMS_anglesNew[:, 0][dG_Area1UMS_anglesNew[:, 0] < 0] += 360\n",
    "ftr = np.logical_and(dG_Area1UMS_anglesNew[:, 1] >= 0, dG_Area1UMS_anglesNew[:, 1] <= 180)\n",
    "dG_Area1UMS_anglesNew[:, 1][ftr] -= 90\n",
    "dG_Area1UMS_anglesNew[:, 1][ftr] *= -1"
   ]
  },
  {
   "cell_type": "code",
   "execution_count": 4,
   "id": "9123eca1",
   "metadata": {
    "tags": []
   },
   "outputs": [
    {
     "name": "stdout",
     "output_type": "stream",
     "text": [
      "Corrected angles from de Groot (2018) (z-axis towards depth):\n",
      "[[ 14.30084952 -24.1131827 ]\n",
      " [251.38443132 -53.80173894]\n",
      " [194.78787357 -30.46017388]\n",
      " [333.68912318  50.68120101]\n",
      " [ 63.34802457  67.13677847]\n",
      " [311.67607251 -21.31501278]\n",
      " [348.08610471  50.40785447]\n",
      " [200.75854906  51.83538878]]\n"
     ]
    }
   ],
   "source": [
    "print('Corrected angles from de Groot (2018) (z-axis towards depth):')\n",
    "print(dG_Area1UMS_anglesNew)"
   ]
  },
  {
   "cell_type": "markdown",
   "id": "dd81aaf3",
   "metadata": {},
   "source": [
    "# Visualize grains\n",
    "\n",
    "In this section we make a visualization of the tomographic data. Tomography voxels are already aggregated into the largest possible cuboids using the `cuboid_aggregation` algorithm included in the `mmt_dipole_cuboid_inversion` library. The visualization is done using the PyVista library:"
   ]
  },
  {
   "cell_type": "code",
   "execution_count": 5,
   "id": "6da96a09",
   "metadata": {},
   "outputs": [],
   "source": [
    "data_dir = Path('deGroot2018_data/PDI-16803')\n",
    "# Location and name of QDM and cuboid file\n",
    "ScanFile = data_dir / 'Area1-90-fig2MMT.txt'\n",
    "CuboidFile = data_dir / 'FWInput-FineCuboids-A1.txt'\n",
    "cuboid_data = np.loadtxt(CuboidFile, skiprows=0)\n",
    "cuboid_data[:, 2] *= -1\n",
    "idxs = cuboid_data[:, 6].astype(np.int16)"
   ]
  },
  {
   "cell_type": "code",
   "execution_count": 6,
   "id": "fa3bf63d",
   "metadata": {},
   "outputs": [
    {
     "name": "stdout",
     "output_type": "stream",
     "text": [
      "Cuboid data example: x y z dx dy dz index\n",
      "[[ 78.4  156.4  -10.12   3.52   5.28   3.08   1.  ]\n",
      " [ 77.96 153.76 -15.84   3.96   2.64   2.64   1.  ]]\n"
     ]
    }
   ],
   "source": [
    "print('Cuboid data example: x y z dx dy dz index')\n",
    "print(cuboid_data[:2, :])"
   ]
  },
  {
   "cell_type": "code",
   "execution_count": 7,
   "id": "f29de221",
   "metadata": {},
   "outputs": [],
   "source": [
    "# Make a block of data from every cuboid, for every particle; to plot the cuboids\n",
    "block = pv.MultiBlock()\n",
    "# g_idx = 1\n",
    "for g_idx in range(1, 9):  # for every particle\n",
    "    for cuboid in cuboid_data[idxs == g_idx]:  # for each of its cuboids\n",
    "        # remember dx dy dz are half-lengths so we multiply by 2 to get cuboid extents:\n",
    "        c = pv.Cube(center=cuboid[:3], x_length=2*cuboid[3], y_length=2*cuboid[4], z_length=2*cuboid[5])\n",
    "        c.cell_data['Gindex'] = [g_idx for i in range(6)]  # \n",
    "        block.append(c)\n",
    "\n",
    "block = block.combine()"
   ]
  },
  {
   "cell_type": "code",
   "execution_count": 8,
   "id": "09c5e12a",
   "metadata": {},
   "outputs": [
    {
     "data": {
      "image/png": "[encoded data removed]",
      "text/plain": [
       "<PIL.Image.Image image mode=RGB size=1000x800>"
      ]
     },
     "metadata": {},
     "output_type": "display_data"
    }
   ],
   "source": [
    "pV = pv.Plotter(off_screen=False, notebook=True, window_size=[1000, 800])\n",
    "pV.set_background('white')\n",
    "\n",
    "pV.add_mesh(block, scalars='Gindex', smooth_shading=False, show_scalar_bar=False,\n",
    "            cmap='spectral')\n",
    "# print (f\"Loading mesh: {perf_counter() - t2}\")\n",
    "\n",
    "# Make the sample outline\n",
    "box_lim = 0.17\n",
    "box = pv.Box([cuboid_data[:, 0].min(), cuboid_data[:, 0].max(),\n",
    "              cuboid_data[:, 1].min(), cuboid_data[:, 1].max(),\n",
    "              cuboid_data[:, 2].min() - 10, 0.0])\n",
    "pV.add_mesh(box.outline(), color='black', opacity=1, line_width=1)\n",
    "\n",
    "# Make the grain shadows\n",
    "pV.add_mesh(\n",
    "    block.extract_geometry().project_points_to_plane(origin=(0, 0, cuboid_data[:, 2].min() - 10), \n",
    "                                                     normal=(0, 0, 1)),\n",
    "                                                     opacity=1, style='surface', color='grey')\n",
    "pV.view_isometric()\n",
    "pV.camera.SetWindowCenter(-0.05, -0.1)\n",
    "pV.camera.zoom(1.3)\n",
    "pV.camera.azimuth = -185\n",
    "pV.camera.elevation = -10\n",
    "\n",
    "pV.show(jupyter_backend='static')"
   ]
  },
  {
   "cell_type": "markdown",
   "id": "332c0c07",
   "metadata": {},
   "source": [
    "# Dipole Cuboid Inversion"
   ]
  },
  {
   "cell_type": "markdown",
   "id": "6be57aa3",
   "metadata": {},
   "source": [
    "In this section we apply the homogeneously magnetized particle model to do the inversions. This means cuboids are asumed uniformly magnetized and we obtain dipole order solutions from the inversions."
   ]
  },
  {
   "cell_type": "code",
   "execution_count": 9,
   "id": "23d42f04",
   "metadata": {},
   "outputs": [
    {
     "name": "stdout",
     "output_type": "stream",
     "text": [
      "Start inversion with 70551 knowns and 24 unknowns\n",
      "Inversion has been carried out\n"
     ]
    }
   ],
   "source": [
    "data_dir = Path('deGroot2018_data/PDI-16803')\n",
    "\n",
    "# location and name of QDM and cuboid file\n",
    "ScanFile = data_dir / 'Area1-90-fig2MMT.txt'\n",
    "CuboidFile = data_dir / 'FWInput-FineCuboids-A1.txt'\n",
    "\n",
    "cub_data = np.loadtxt(CuboidFile, skiprows=0)\n",
    "cub_data[:, 2] *= -1\n",
    "\n",
    "SQUID_sensor_domain = np.array([[0, 0], [350, 200]]) * 1e-6\n",
    "SQUID_spacing = 1e-6\n",
    "SQUID_deltax = 0.5e-6\n",
    "SQUID_deltay = 0.5e-6\n",
    "SQUID_area = 1e-12\n",
    "scan_height = 2e-6\n",
    "\n",
    "mag_inv = dci.DipoleCuboidInversion(None, SQUID_sensor_domain, SQUID_spacing,\n",
    "        SQUID_deltax, SQUID_deltay, SQUID_area, scan_height, verbose=True)\n",
    "\n",
    "mag_inv.read_files(ScanFile, cub_data, cuboid_scaling_factor=1e-6)\n",
    "mag_inv.set_scan_domain(gen_sd_mesh_from='sensor_center_domain')\n",
    "\n",
    "# We then compute the forward (Green's) matrix that we use to invert the scan field:\n",
    "mag_inv.prepare_matrix(method='cython')\n",
    "\n",
    "# And we do the inversion::::\n",
    "# Notice that rtol is defined in Scipy with a default value of : max(M, N) * eps, \n",
    "# where eps is the machine precision value of the datatype of the Forward G matrix (here float64),\n",
    "# and M,N are the dimensions of the matrix.\n",
    "# eps is around 2.22e-16; however the smallest number that can be represented in Numpy is \n",
    "# substantially smaller, in the order of e-308; See: numpy.finfo\n",
    "mag_inv.calculate_inverse(method='scipy_pinv', rtol=1e-20)"
   ]
  },
  {
   "cell_type": "code",
   "execution_count": 10,
   "id": "aa1e83b5",
   "metadata": {},
   "outputs": [],
   "source": [
    "mag_dpinv = np.linalg.norm(mag_inv.Mag.reshape(-1, 3), axis=1)"
   ]
  },
  {
   "cell_type": "code",
   "execution_count": 11,
   "id": "289c0235",
   "metadata": {},
   "outputs": [
    {
     "name": "stdout",
     "output_type": "stream",
     "text": [
      "Dipole cuboid inversion code - Magnetic moments:\n",
      "[ 3467.09006523  3876.44978583 15131.96495676  3740.29552205\n",
      " 27753.22027397  3059.00393443 92531.80980677  7430.47851852]\n"
     ]
    }
   ],
   "source": [
    "print('Dipole cuboid inversion code - Magnetic moments:')\n",
    "print(mag_dpinv)"
   ]
  },
  {
   "cell_type": "code",
   "execution_count": 12,
   "id": "f5522a25",
   "metadata": {},
   "outputs": [
    {
     "name": "stdout",
     "output_type": "stream",
     "text": [
      "Dipole cuboid inversion code - Magnetizations:\n"
     ]
    },
    {
     "data": {
      "text/plain": [
       "array([[  3073.47734671,    794.21817703,   1394.15494368],\n",
       "       [  -721.16937776,  -2167.19695266,   3132.09754621],\n",
       "       [-12596.9441177 ,  -3373.80667116,   7675.33653294],\n",
       "       [  2116.48066373,  -1054.1587659 ,  -2898.11481632],\n",
       "       [  4722.76616018,   9681.78237472, -25577.32991187],\n",
       "       [  1958.37827699,  -2082.26593193,   1089.23284186],\n",
       "       [ 54738.76498624,  -9395.10859099, -74010.37338415],\n",
       "       [ -4592.66677199,  -1717.13844967,  -5583.08682364]])"
      ]
     },
     "execution_count": 12,
     "metadata": {},
     "output_type": "execute_result"
    }
   ],
   "source": [
    "print('Dipole cuboid inversion code - Magnetizations:')\n",
    "mag_inv.Mag.reshape(-1, 3)"
   ]
  },
  {
   "cell_type": "code",
   "execution_count": 13,
   "id": "f07840bb",
   "metadata": {},
   "outputs": [],
   "source": [
    "# Compute spherical angles:\n",
    "# array with the magnetizations. It's the same if we use normalized m\n",
    "m = np.copy(mag_inv.Mag.reshape(-1, 3))\n",
    "# mnorm = m / np.linalg.norm(m, axis=1)[:, np.newaxis]\n",
    "phi = np.arctan2(m[:, 1], m[:, 0])  # arctan(y / x) for every row (particle)\n",
    "theta = np.arccos(m[:, 2] / np.linalg.norm(m, axis=1))  # arccos(z / r) ; r = sqrt(x^2 + y^2 + z^2)\n",
    "\n",
    "# Convert to degrees and correct angles: polar angles measured from equator and\n",
    "# azimuthal angles in [0,360] degrees range\n",
    "angles_dpinv = np.column_stack((np.rad2deg(phi), np.rad2deg(theta)))\n",
    "angles_dpinv[:, 0][angles_dpinv[:, 0] < 0] += 360\n",
    "ftr = np.logical_and(angles_dpinv[:, 1] >= 0, angles_dpinv[:, 1] <= 180)\n",
    "angles_dpinv[:, 1][ftr] -= 90\n",
    "angles_dpinv[:, 1][ftr] *= -1"
   ]
  },
  {
   "cell_type": "code",
   "execution_count": 14,
   "id": "188038f3",
   "metadata": {},
   "outputs": [
    {
     "name": "stdout",
     "output_type": "stream",
     "text": [
      "Dipole cuboid inversion code - Angles:\n"
     ]
    },
    {
     "data": {
      "text/plain": [
       "array([[ 14.48886701,  23.7102118 ],\n",
       "       [251.59431336,  53.89913038],\n",
       "       [194.99348855,  30.47927703],\n",
       "       [333.52341147, -50.79014663],\n",
       "       [ 63.99691474, -67.16092178],\n",
       "       [313.24384024,  20.85930326],\n",
       "       [350.26091101, -53.1145483 ],\n",
       "       [200.50011718, -48.70975427]])"
      ]
     },
     "execution_count": 14,
     "metadata": {},
     "output_type": "execute_result"
    }
   ],
   "source": [
    "print('Dipole cuboid inversion code - Angles:')\n",
    "angles_dpinv"
   ]
  },
  {
   "cell_type": "code",
   "execution_count": 15,
   "id": "655d9c9a",
   "metadata": {},
   "outputs": [],
   "source": [
    "# Compute the volumes of the grains by summing its cuboid components\n",
    "cuboidVols = np.zeros(8)\n",
    "cuboidIdxs = cuboid_data[:, 6].astype(np.int16)\n",
    "vols = 8 * cub_data[:, 3] * cub_data[:, 4] * cub_data[:, 5]\n",
    "for i, particle_idx in enumerate(np.unique(cuboidIdxs)):\n",
    "    p = cuboidIdxs == particle_idx\n",
    "    cuboidVols[i] = vols[p].sum()\n",
    "\n",
    "cuboidDepths = cub_data[:, 2] * (-1)"
   ]
  },
  {
   "cell_type": "code",
   "execution_count": 16,
   "id": "99396609",
   "metadata": {},
   "outputs": [
    {
     "data": {
      "image/png": "[encoded data removed]",
      "text/plain": [
       "<Figure size 1200x457.143 with 3 Axes>"
      ]
     },
     "metadata": {},
     "output_type": "display_data"
    }
   ],
   "source": [
    "dcit.plot.set_grain_geometries(mag_inv, spatial_scaling=1e6)\n",
    "\n",
    "f, axs = plt.subplots(ncols=2, figsize=(12, 8 * 200 / 350))\n",
    "\n",
    "axs[0].imshow(pV.image)\n",
    "axs[0].set_axis_off()\n",
    "axs[0].text(0.93, 0.89, 'z = 0', va='top', ha='right',\n",
    "            color='k', fontsize=16, transform=axs[0].transAxes)\n",
    "\n",
    "\n",
    "# vlim = np.max(np.abs(mag_inv.scan_matrix / mag_inv.scan_area)) * 1e6\n",
    "vlim = 400\n",
    "dcit.plot.plot_grain_boundaries(mag_inv, axs[1], \n",
    "                                labels_args=dict(ha='center', va='center', fontsize=12, fontweight=600))\n",
    "im = dcit.plot.plot_scan_field(mag_inv, axs[1], scale_field=1e6 / mag_inv.scan_area,\n",
    "                               imshow_args=dict(cmap='RdBu', vmin=-vlim, vmax=vlim))\n",
    "axs[1].set_xlabel('x  µm')\n",
    "axs[1].set_ylabel('y  µm')\n",
    "\n",
    "# COLORBAR\n",
    "axL = axs[1].get_position()\n",
    "axcb = f.add_axes([axL.x1 + 0.01, axL.y0, 0.005, axL.height])\n",
    "cb = f.colorbar(plt.cm.ScalarMappable(norm=plt.Normalize(vmin=-vlim, vmax=vlim), cmap='RdBu'), \n",
    "                cax=axcb, orientation='vertical', # shrink=0.7, aspect=10, # pad=-0.8\n",
    "                extend='both')\n",
    "cb.ax.xaxis.set_ticks_position('top')\n",
    "cb.set_ticks((-vlim, 0, vlim))\n",
    "cb.set_label(r'$B_{z}$' + ' µT', fontsize=14, y=1.15, rotation=0, labelpad=-40)\n",
    "\n",
    "depthLab = '(Units in µm)\\n'\n",
    "depthLab += 'Grain '\n",
    "for i in range(8):\n",
    "    depthLab += f'{i + 1:>9}'\n",
    "depthLab += '\\nDepth '\n",
    "for i in range(8):\n",
    "    depthLab += f'{cuboidDepths[i]:>9.2f}'\n",
    "\n",
    "depthLab += '\\nVolume'\n",
    "for i in range(8):\n",
    "    depthLab += f'{cuboidVols[i]:>9.2f}'\n",
    "\n",
    "axs[0].text(0., 0.0, depthLab, va='top', ha='left',\n",
    "            color='k', fontsize=10, fontfamily='monospace',\n",
    "            bbox={'facecolor': 'white', 'alpha': 0.5, 'pad': 5},\n",
    "            transform=axs[0].transAxes)\n",
    "\n",
    "\n",
    "plt.savefig('figures/area1_degroot18_overview.pdf', bbox_inches='tight', dpi=200)\n",
    "plt.show()"
   ]
  },
  {
   "cell_type": "code",
   "execution_count": 17,
   "id": "b9569a8d",
   "metadata": {},
   "outputs": [
    {
     "name": "stdout",
     "output_type": "stream",
     "text": [
      "(Units in µm)\n",
      "Grain         1        2        3        4        5        6        7        8\n",
      "Depth     10.12    15.84     9.68     6.16    11.00    12.32    14.52     7.48\n",
      "Volume  1689.37  2646.84   900.91  5365.23   781.65  1991.94   297.12  1808.63\n"
     ]
    }
   ],
   "source": [
    "print(depthLab)"
   ]
  },
  {
   "cell_type": "markdown",
   "id": "b1dd1d0b",
   "metadata": {},
   "source": [
    "# Multipole Inversion"
   ]
  },
  {
   "cell_type": "markdown",
   "id": "324c87de",
   "metadata": {},
   "source": [
    "In this section we apply the multipole expansion model for the inversions, thus we use the `mmt_multipole_inversion library`. Start by computing the particle centers from the tomography/cuboids data:"
   ]
  },
  {
   "cell_type": "code",
   "execution_count": 18,
   "id": "88bcd3e2",
   "metadata": {},
   "outputs": [],
   "source": [
    "# -----------------------------------------------------------------------------\n",
    "# DEFINE PARTICLES\n",
    "\n",
    "data_dir = Path('deGroot2018_data/PDI-16803')\n",
    "\n",
    "# Location and name of QDM and cuboid file\n",
    "ScanFile = data_dir / 'Area1-90-fig2MMT.txt'\n",
    "CuboidFile = data_dir / 'FWInput-FineCuboids-A1.txt'\n",
    "# Load center and half lengths of cuboids making the grains (tomog data)\n",
    "cuboid_data = np.loadtxt(CuboidFile, skiprows=0)\n",
    "# x, y = np.copy(cuboid_data[:, 0]), np.copy(cuboid_data[:, 1])\n",
    "# cuboid_data[:, 0] = y\n",
    "# cuboid_data[:, 1] = x\n",
    "cuboid_data[:, 2] *= -1\n",
    "\n",
    "cuboid_data_idxs = cuboid_data[:, 6].astype(np.int16)\n",
    "cx, cy, cz, cdx, cdy, cdz = (cuboid_data[:, i] for i in range(6))\n",
    "vols = 8 * cdx * cdy * cdz\n",
    "\n",
    "# Compute centers of mass (geometric centre) per p. into the particles array\n",
    "particles = np.zeros((len(np.unique(cuboid_data_idxs)), 4))\n",
    "centre = np.zeros(3)\n",
    "for i, particle_idx in enumerate(np.unique(cuboid_data_idxs)):\n",
    "\n",
    "    p = cuboid_data_idxs == particle_idx\n",
    "    particle_vol = vols[p].sum()\n",
    "    centre[0] = np.sum(cx[p] * vols[p]) / particle_vol\n",
    "    centre[1] = np.sum(cy[p] * vols[p]) / particle_vol\n",
    "    centre[2] = np.sum(cz[p] * vols[p]) / particle_vol\n",
    "\n",
    "    particles[i][:3] = centre\n",
    "    particles[i][3] = particle_vol"
   ]
  },
  {
   "cell_type": "markdown",
   "id": "72e4eb35",
   "metadata": {},
   "source": [
    "Now we define the sample:"
   ]
  },
  {
   "cell_type": "code",
   "execution_count": 19,
   "id": "93895339",
   "metadata": {},
   "outputs": [],
   "source": [
    "# -----------------------------------------------------------------------------\n",
    "# DEFINE SAMPLE\n",
    "\n",
    "# Directory to save the files\n",
    "BASE_DIR = Path('SyntheticSampleFiles')\n",
    "BASE_DIR.mkdir(exist_ok=True)\n",
    "\n",
    "# Scale the positions and columes by micrometres\n",
    "np.savez(BASE_DIR / 'Area1_UMS_NPZ_ARRAYS',\n",
    "         # Bz_array=,\n",
    "         particle_positions=particles[:, :3] * 1e-6,\n",
    "         # magnetization=self.magnetization,\n",
    "         volumes=particles[:, 3] * 1e-18)\n",
    "\n",
    "# Set dictionary with scanning surface parameters\n",
    "metadict = {}\n",
    "metadict[\"Scan height Hz\"] = 2e-6\n",
    "metadict[\"Scan area x-dimension Sx\"] = 351 * 1e-6\n",
    "metadict[\"Scan area y-dimension Sy\"] = 201 * 1e-6\n",
    "metadict[\"Scan x-step Sdx\"] = 1e-6\n",
    "metadict[\"Scan y-step Sdy\"] = 1e-6\n",
    "metadict[\"Time stamp\"] = '0000'\n",
    "metadict[\"Number of particles\"] = 8\n",
    "# Important!:\n",
    "metadict[\"Sensor dimensions\"] = (0.5e-6, 0.5e-6)\n",
    "\n",
    "# Save dictionary into json file\n",
    "with open(BASE_DIR / \"AREA1_UMS_METADICT.json\", 'w') as f:\n",
    "    json.dump(metadict, f)"
   ]
  },
  {
   "cell_type": "markdown",
   "id": "03e684de",
   "metadata": {},
   "source": [
    "And, finally, we make the inversions using a 2D model for the magnetometer sensors. This is useful to compare the solutions against the HMP model:"
   ]
  },
  {
   "cell_type": "code",
   "execution_count": 20,
   "id": "801ee5ef",
   "metadata": {},
   "outputs": [
    {
     "name": "stdout",
     "output_type": "stream",
     "text": [
      "*Bz_array* array required for calculations.  Set manually.\n",
      "Parameter Sensor origin x not found in json file\n",
      "Setting Sensor origin x value to 0.0\n",
      "Parameter Sensor origin y not found in json file\n",
      "Setting Sensor origin y value to 0.0\n",
      "Scanning array size = 351 x 201\n",
      "Generating forward matrix\n",
      "Generation of Q matrix took: 6.9469 s\n",
      "Using scipy.linalg.pinv for inversion\n",
      "Generating forward matrix\n",
      "Generation of Q matrix took: 1.4067 s\n",
      "Using scipy.linalg.pinv for inversion\n"
     ]
    }
   ],
   "source": [
    "# -----------------------------------------------------------------------------\n",
    "# INVERSION\n",
    "\n",
    "inv_area1_ums = minv.MultipoleInversion(\n",
    "        BASE_DIR / \"AREA1_UMS_METADICT.json\",\n",
    "        BASE_DIR / 'Area1_UMS_NPZ_ARRAYS.npz',\n",
    "        expansion_limit='dipole',\n",
    "        sus_functions_module='spherical_harmonics_basis_area')\n",
    "# inv_area1_ums.sensor_dims = ()\n",
    "# Load the scanning array manually:\n",
    "inv_area1_ums.Bz_array = np.loadtxt(data_dir / 'Area1-90-fig2MMT.txt')\n",
    "\n",
    "mag_minv_raw = {}\n",
    "mag_minv = {}\n",
    "angles_minv = {}\n",
    "angles_minv_raw = {}\n",
    "berr_minv = {}\n",
    "\n",
    "for exp_limit in ['dipole', 'quadrupole']:\n",
    "# for exp_limit in ['dipole']:\n",
    "    inv_area1_ums.expansion_limit = exp_limit\n",
    "    inv_area1_ums.compute_inversion(method='sp_pinv', rtol=1e-20)\n",
    "    # inv_area1_ums.compute_inversion(rcond=1e-30, method='np_pinv')\n",
    "    \n",
    "    # print(inv_area1_ums.inv_multipole_moments[:, :3] / inv_area1_ums.volumes[:, None])\n",
    "    \n",
    "    # Compute magnetizations:\n",
    "    mag = inv_area1_ums.inv_multipole_moments[:, :3] / inv_area1_ums.volumes[:, None]\n",
    "    mag_area1_ums = np.sqrt(np.sum(mag ** 2, axis=1))\n",
    "    \n",
    "    mag_minv_raw[exp_limit] = inv_area1_ums.inv_multipole_moments[:, :3]\n",
    "    \n",
    "    # Compute spherical angles:\n",
    "    m = mag / np.linalg.norm(m, axis=1)[:, None]  # normalized mag\n",
    "\n",
    "    # phi = arctan(y / x)\n",
    "    phi_area1_ums = np.arctan2(m[:, 1], m[:, 0])\n",
    "    # theta = arccos(z / r) ; r = sqrt(x^2 + y^2 + z^2)\n",
    "    theta_area1_ums = np.arccos(m[:, 2] / np.linalg.norm(m, axis=1))\n",
    " \n",
    "    mag_minv[exp_limit] = mag_area1_ums\n",
    "    angles_minv[exp_limit] = np.column_stack((np.rad2deg(phi_area1_ums),\n",
    "                                              np.rad2deg(theta_area1_ums)))\n",
    "   \n",
    "    angles_minv[exp_limit][:, 0][angles_minv[exp_limit][:, 0] < 0] += 360\n",
    "    ftr = np.logical_and(angles_minv[exp_limit][:, 1] >= 0, angles_minv[exp_limit][:, 1] <= 180)\n",
    "    angles_minv[exp_limit][:, 1][ftr] -= 90\n",
    "    angles_minv[exp_limit][:, 1][ftr] *= -1\n",
    "    \n",
    "    angles_minv_raw[exp_limit] = np.column_stack((np.rad2deg(phi_area1_ums),\n",
    "                                                  np.rad2deg(theta_area1_ums)))\n",
    "    \n",
    "    berr_minv[exp_limit] = np.linalg.norm(inv_area1_ums.inv_Bz_array - inv_area1_ums.Bz_array)\n",
    "    berr_minv[exp_limit] /= np.linalg.norm(inv_area1_ums.Bz_array)"
   ]
  },
  {
   "cell_type": "code",
   "execution_count": 21,
   "id": "2ee15b13",
   "metadata": {},
   "outputs": [
    {
     "name": "stdout",
     "output_type": "stream",
     "text": [
      "Multipole inversion code - Magnetizations:\n",
      "{'dipole': array([ 3384.14928415,  4384.65722375, 15265.62141898,  4190.41512272,\n",
      "       28120.79203448,  2119.66057691, 88682.36504411,  6796.90000064]), 'quadrupole': array([ 4612.27561906,  6318.84058223, 19826.9883864 ,  4273.23720551,\n",
      "       39414.44691799, 15929.64665508, 75612.760774  , 14666.92064884])}\n"
     ]
    }
   ],
   "source": [
    "print('Multipole inversion code - Magnetizations:')\n",
    "print(mag_minv)"
   ]
  },
  {
   "cell_type": "code",
   "execution_count": 22,
   "id": "a8a48d69",
   "metadata": {},
   "outputs": [
    {
     "name": "stdout",
     "output_type": "stream",
     "text": [
      "Multipole inversion code - Magnetizations:\n",
      "[[ 16.43078102  21.73713327]\n",
      " [248.23000614  49.05732027]\n",
      " [194.1794846   28.62747556]\n",
      " [337.27067732 -51.25602852]\n",
      " [ 64.3412182  -67.41172835]\n",
      " [305.30191709  22.80922409]\n",
      " [343.95454414 -50.71020077]\n",
      " [210.84657555 -53.1036977 ]]\n"
     ]
    }
   ],
   "source": [
    "print('Multipole inversion code - Magnetizations:')\n",
    "print(angles_minv['dipole'])"
   ]
  },
  {
   "cell_type": "code",
   "execution_count": 23,
   "id": "2fea7006",
   "metadata": {},
   "outputs": [
    {
     "name": "stdout",
     "output_type": "stream",
     "text": [
      "Multipole inversion code - Angles:\n"
     ]
    },
    {
     "data": {
      "text/plain": [
       "{'dipole': array([[ 16.43078102,  21.73713327],\n",
       "        [248.23000614,  49.05732027],\n",
       "        [194.1794846 ,  28.62747556],\n",
       "        [337.27067732, -51.25602852],\n",
       "        [ 64.3412182 , -67.41172835],\n",
       "        [305.30191709,  22.80922409],\n",
       "        [343.95454414, -50.71020077],\n",
       "        [210.84657555, -53.1036977 ]]),\n",
       " 'quadrupole': array([[352.3498672 ,  51.27369766],\n",
       "        [237.76881549,  40.34111567],\n",
       "        [172.69626689,  25.98699694],\n",
       "        [ 11.22730216, -44.09069991],\n",
       "        [  2.05338518, -50.60158061],\n",
       "        [259.85815902, -24.02869794],\n",
       "        [ 96.50607284,  62.14328874],\n",
       "        [181.7998556 , -31.03943834]])}"
      ]
     },
     "execution_count": 23,
     "metadata": {},
     "output_type": "execute_result"
    }
   ],
   "source": [
    "print('Multipole inversion code - Angles:')\n",
    "angles_minv"
   ]
  },
  {
   "cell_type": "markdown",
   "id": "5067468a",
   "metadata": {},
   "source": [
    "## Multipole Inversion: Point Source\n",
    "\n",
    "Here we perform multipole inversions but modelling the sensors as point sources (for comparison)"
   ]
  },
  {
   "cell_type": "code",
   "execution_count": 24,
   "id": "6fbe80cc",
   "metadata": {},
   "outputs": [
    {
     "name": "stdout",
     "output_type": "stream",
     "text": [
      "*Bz_array* array required for calculations.  Set manually.\n",
      "Parameter Sensor origin x not found in json file\n",
      "Setting Sensor origin x value to 0.0\n",
      "Parameter Sensor origin y not found in json file\n",
      "Setting Sensor origin y value to 0.0\n",
      "Scanning array size = 351 x 201\n",
      "Generating forward matrix\n",
      "Generation of Q matrix took: 3.1395 s\n",
      "Using scipy.linalg.pinv for inversion\n",
      "Generating forward matrix\n",
      "Generation of Q matrix took: 3.4391 s\n",
      "Using scipy.linalg.pinv for inversion\n",
      "Generating forward matrix\n",
      "Generation of Q matrix took: 6.7451 s\n",
      "Using scipy.linalg.pinv for inversion\n"
     ]
    }
   ],
   "source": [
    "# -----------------------------------------------------------------------------\n",
    "# INVERSION\n",
    "\n",
    "inv_area1_ums = minv.MultipoleInversion(\n",
    "        BASE_DIR / \"AREA1_UMS_METADICT.json\",\n",
    "        BASE_DIR / 'Area1_UMS_NPZ_ARRAYS.npz',\n",
    "        expansion_limit='dipole',\n",
    "        sus_functions_module='spherical_harmonics_basis')\n",
    "inv_area1_ums.sensor_dims = ()\n",
    "# Load the scanning array manually:\n",
    "inv_area1_ums.Bz_array = np.loadtxt(data_dir / 'Area1-90-fig2MMT.txt')\n",
    "\n",
    "mag_minv_ps = {}\n",
    "angles_minv_ps = {}\n",
    "angles_minv_ps_raw = {}\n",
    "\n",
    "for exp_limit in ['dipole', 'quadrupole', 'octupole']:\n",
    "# for exp_limit in ['dipole']:\n",
    "    inv_area1_ums.expansion_limit = exp_limit\n",
    "    inv_area1_ums.compute_inversion(method='sp_pinv', rtol=1e-20)\n",
    "    # inv_area1_ums.compute_inversion(rcond=1e-30, method='np_pinv')\n",
    "    \n",
    "    # print(inv_area1_ums.inv_multipole_moments[:, :3] / inv_area1_ums.volumes[:, None])\n",
    "    \n",
    "    # Compute magnetizations:\n",
    "    mag = inv_area1_ums.inv_multipole_moments[:, :3] / inv_area1_ums.volumes[:, None]\n",
    "    mag_area1_ums = np.sqrt(np.sum(mag ** 2, axis=1))\n",
    "    \n",
    "    # Compute sph angles:\n",
    "    m = mag / np.linalg.norm(m, axis=1)[:, None]\n",
    "\n",
    "    # phi = arctan(y / x)\n",
    "    phi_area1_ums = np.arctan2(m[:, 1], m[:, 0])\n",
    "    # theta = arccos(z / r) ; r = sqrt(x^2 + y^2 + z^2)\n",
    "    theta_area1_ums = np.arccos(m[:, 2] / np.linalg.norm(m, axis=1))\n",
    "\n",
    "    mag_minv_ps[exp_limit] = mag_area1_ums\n",
    "    angles_minv_ps[exp_limit] = np.column_stack((np.rad2deg(phi_area1_ums),\n",
    "                                                 np.rad2deg(theta_area1_ums)))\n",
    "   \n",
    "    angles_minv_ps[exp_limit][:, 0][angles_minv_ps[exp_limit][:, 0] < 0] += 360\n",
    "    ftr = np.logical_and(angles_minv_ps[exp_limit][:, 1] >= 0, angles_minv_ps[exp_limit][:, 1] <= 180)\n",
    "    angles_minv_ps[exp_limit][:, 1][ftr] -= 90\n",
    "    angles_minv_ps[exp_limit][:, 1][ftr] *= -1\n",
    "    \n",
    "    angles_minv_ps_raw[exp_limit] = np.column_stack((np.rad2deg(phi_area1_ums),\n",
    "                                                     np.rad2deg(theta_area1_ums)))"
   ]
  },
  {
   "cell_type": "markdown",
   "id": "059e0fdf",
   "metadata": {},
   "source": [
    "# Comparison"
   ]
  },
  {
   "cell_type": "markdown",
   "id": "5a33a8de",
   "metadata": {},
   "source": [
    "In this section we compute the relative errors $B_{\\text{err}}$ and the comparison of the magnetization values between the HMP model, the MPE model, and the original data reported by de Groot et al. (2018)"
   ]
  },
  {
   "cell_type": "code",
   "execution_count": 25,
   "id": "f98fdf87",
   "metadata": {},
   "outputs": [],
   "source": [
    "# Not a good indicator as there are grains with very large errors\n",
    "Berrs = np.zeros(3)\n",
    "\n",
    "dci_bzinv = mag_inv.forward_field()\n",
    "dci_bz = mag_inv.scan_matrix / mag_inv.scan_area\n",
    "Berrs[0] = np.linalg.norm(dci_bzinv - dci_bz, ord='fro')\n",
    "Berrs[0] /= np.linalg.norm(dci_bz, ord='fro')\n",
    "\n",
    "Berrs[1] = berr_minv['dipole']\n",
    "Berrs[2] = berr_minv['quadrupole']"
   ]
  },
  {
   "cell_type": "code",
   "execution_count": 26,
   "id": "d847e1dd",
   "metadata": {},
   "outputs": [
    {
     "name": "stdout",
     "output_type": "stream",
     "text": [
      "Magnetization in units of A / m\n",
      "---------------------------------------------------------------------------------------\n",
      "Grain       MultInv[dipole]      MultInv[quadrup]      DipCubInv      de Groot (2018)*\n",
      "---------------------------------------------------------------------------------------\n",
      "  1              3384.149            4612.276           3467.090            3544.300\n",
      "  2              4384.657            6318.841           3876.450            3923.700\n",
      "  3             15265.621           19826.988          15131.965           15346.800\n",
      "  4              4190.415            4273.237           3740.296            3770.700\n",
      "  5             28120.792           39414.447          27753.220           28147.800\n",
      "  6              2119.661           15929.647           3059.004            2845.900\n",
      "  7             88682.365           75612.761          92531.810           92191.200\n",
      "  8              6796.900           14666.921           7430.479            7154.400\n",
      "\n",
      "Pairs of (φ,θ) magnetization angles in degrees. Polar angles positive above the equator\n",
      "---------------------------------------------------------------------------------------\n",
      "Grain       MultInv[dipole]      MultInv[quadrup]      DipCubInv      de Groot (2018)*\n",
      "---------------------------------------------------------------------------------------\n",
      "  1        ( 16.43,  21.74)     (352.35,  51.27)   ( 14.49,  23.71)  ( 14.30,  24.11)\n",
      "  2        (248.23,  49.06)     (237.77,  40.34)   (251.59,  53.90)  (251.38,  53.80)\n",
      "  3        (194.18,  28.63)     (172.70,  25.99)   (194.99,  30.48)  (194.79,  30.46)\n",
      "  4        (337.27, -51.26)     ( 11.23, -44.09)   (333.52, -50.79)  (333.69, -50.68)\n",
      "  5        ( 64.34, -67.41)     (  2.05, -50.60)   ( 64.00, -67.16)  ( 63.35, -67.14)\n",
      "  6        (305.30,  22.81)     (259.86, -24.03)   (313.24,  20.86)  (311.68,  21.32)\n",
      "  7        (343.95, -50.71)     ( 96.51,  62.14)   (350.26, -53.11)  (348.09, -50.41)\n",
      "  8        (210.85, -53.10)     (181.80, -31.04)   (200.50, -48.71)  (200.76, -51.84)\n",
      "\n",
      " * Positive z-axis in de Groot (2018) point towards depth.\n",
      "   θ values here are inverted. φ values are re-computed.\n",
      "\n",
      "- Multipole Inversions using area sensors\n",
      "\n"
     ]
    }
   ],
   "source": [
    "# header = f\"{'MultInv[dipole]':>27}\"\n",
    "# header += f\"{'MultInv[quadrup]':>22}\"\n",
    "# # header += f\"{'MultInv[octupole]':>22}\"\n",
    "# header += f\"{'DipCubInv':>15}\"\n",
    "# header += f\"{'de Groot (2018)':>22}\"\n",
    "# print('Inversion error Berr')\n",
    "# print('-' * 87)\n",
    "# print(header)\n",
    "# print('-' * 87)\n",
    "# print(f'{Berrs[0]:>22.2f}')\n",
    "\n",
    "print('Magnetization in units of A / m')\n",
    "print('-' * 87)\n",
    "header = f\"{'Grain':>5}\"\n",
    "header += f\"{'MultInv[dipole]':>22}\"\n",
    "header += f\"{'MultInv[quadrup]':>22}\"\n",
    "# header += f\"{'MultInv[octupole]':>22}\"\n",
    "header += f\"{'DipCubInv':>15}\"\n",
    "header += f\"{'de Groot (2018)*':>22}\"\n",
    "print(header)\n",
    "print('-' * 87)\n",
    "for i in range(8):\n",
    "    res = f\"{i + 1:>3}\"\n",
    "    res += f\"{mag_minv['dipole'][i]:>22.3f}\"\n",
    "    res += f\"{mag_minv['quadrupole'][i]:>20.3f}\"\n",
    "    # res += f\"{mag_minv['octupole'][i]:>22.3f}\"\n",
    "    res += f\"{mag_dpinv[i]:>19.3f}\"\n",
    "    res += f\"{dG_Area1UMS[i]:>20.3f}\"\n",
    "    \n",
    "    print(res)\n",
    "\n",
    "print('\\nPairs of (φ,θ) magnetization angles in degrees. Polar angles positive above the equator')\n",
    "print('-' * 87)\n",
    "print(header)\n",
    "print('-' * 87)\n",
    "for i in range(8):\n",
    "    res = f\"{i + 1:>3}\"\n",
    "    res += f\"{'(':>9}{angles_minv['dipole'][i][0]:>6.2f}, {angles_minv['dipole'][i][1]:>6.2f})\"\n",
    "    res += f\"{'(':>6}{angles_minv['quadrupole'][i][0]:>6.2f}, {angles_minv['quadrupole'][i][1]:>6.2f})\"\n",
    "    # res += f\"{mag_minv['octupole'][i]:>19.3f}\"\n",
    "    res += f\"{'(':>4}{angles_dpinv[i][0]:>6.2f}, {angles_dpinv[i][1]:>6.2f})\"\n",
    "    res += f\"{'(':>3}{dG_Area1UMS_anglesNew[i][0]:>6.2f}, {-dG_Area1UMS_anglesNew[i][1]:>6.2f})\"\n",
    "    \n",
    "    print(res)\n",
    "\n",
    "print('\\n * Positive z-axis in de Groot (2018) point towards depth.')\n",
    "print('   θ values here are inverted. φ values are re-computed.')\n",
    "print('\\n- Multipole Inversions using area sensors\\n')"
   ]
  },
  {
   "cell_type": "markdown",
   "id": "b0ff2b7d",
   "metadata": {},
   "source": [
    "The following is the same comparison but using point-sensors for the Multipole inversions:"
   ]
  },
  {
   "cell_type": "code",
   "execution_count": 27,
   "id": "d302c051",
   "metadata": {
    "tags": []
   },
   "outputs": [
    {
     "name": "stdout",
     "output_type": "stream",
     "text": [
      "\n",
      "----------------------------------------------------------------------------------------------------\n",
      "Grain     MultInv[dipole] MultInv[quadrupole]   MultInv[octupole]     DipoleInv     de Groot (2018)\n",
      "  1           3379.871           4611.900           4488.817           3467.090           3544.300\n",
      "  2           4382.546           6317.077           8050.031           3876.450           3923.700\n",
      "  3          15254.746          19824.005          20020.999          15131.965          15346.800\n",
      "  4           4189.074           4272.981           6485.511           3740.296           3770.700\n",
      "  5          28101.039          39430.480          24534.983          27753.220          28147.800\n",
      "  6           2130.350          15965.358         530939.068           3059.004           2845.900\n",
      "  7          88693.396          75775.393        3637394.753          92531.810          92191.200\n",
      "  8           6809.542          14723.426          34807.051           7430.479           7154.400\n",
      "\n",
      "- Multipole Inversion using point sensors\n"
     ]
    }
   ],
   "source": [
    "print('\\n' + '-' * 100)\n",
    "header = f\"{'Grain':>5}\"\n",
    "header += f\"{'MultInv[dipole]':>20}\"\n",
    "header += f\"{'MultInv[quadrupole]':>20}\"\n",
    "header += f\"{'MultInv[octupole]':>20}\"\n",
    "header += f\"{'DipoleInv':>14}\"\n",
    "header += f\"{'de Groot (2018)':>20}\"\n",
    "print(header)\n",
    "\n",
    "for i in range(8):\n",
    "    res = f\"{i + 1:>3}\"\n",
    "    res += f\"{mag_minv_ps['dipole'][i]:>19.3f}\"\n",
    "    res += f\"{mag_minv_ps['quadrupole'][i]:>19.3f}\"\n",
    "    res += f\"{mag_minv_ps['octupole'][i]:>19.3f}\"\n",
    "    res += f\"{mag_dpinv[i]:>19.3f}\"\n",
    "    res += f\"{dG_Area1UMS[i]:>19.3f}\"\n",
    "    \n",
    "    print(res)\n",
    "    \n",
    "print('\\n- Multipole Inversion using point sensors')"
   ]
  }
 ],
 "metadata": {
  "jupytext": {
   "formats": "ipynb,py:percent"
  },
  "kernelspec": {
   "display_name": "Python 3 (ipykernel)",
   "language": "python",
   "name": "python3"
  },
  "language_info": {
   "codemirror_mode": {
    "name": "ipython",
    "version": 3
   },
   "file_extension": ".py",
   "mimetype": "text/x-python",
   "name": "python",
   "nbconvert_exporter": "python",
   "pygments_lexer": "ipython3",
   "version": "3.10.9"
  }
 },
 "nbformat": 4,
 "nbformat_minor": 5
}
