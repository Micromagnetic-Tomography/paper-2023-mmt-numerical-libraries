{
 "cells": [
  {
   "cell_type": "markdown",
   "id": "7e8174a4-dbe9-4abc-838e-4df6c1e57c47",
   "metadata": {},
   "source": [
    "# Imports"
   ]
  },
  {
   "cell_type": "code",
   "execution_count": 1,
   "id": "8d2818b1",
   "metadata": {
    "tags": []
   },
   "outputs": [],
   "source": [
    "from mmt_multipole_inversion import MagneticSample\n",
    "from mmt_multipole_inversion import MultipoleInversion\n",
    "import numpy as np\n",
    "from pathlib import Path"
   ]
  },
  {
   "cell_type": "markdown",
   "id": "ceeaae48-656d-488f-ac0e-f4ca3d7480a5",
   "metadata": {},
   "source": [
    "# Quadrupole\n",
    "\n",
    "In the following piece of code we generate a perfect quadrupole from two dipoles, using the `MagneticSample` module. We also specify the dimensions of the measurement surface. We save the data in files with the `quadrupole_y-orientation` names."
   ]
  },
  {
   "cell_type": "code",
   "execution_count": 2,
   "id": "01773e51-69c3-4fcf-af63-212bfee60fa7",
   "metadata": {},
   "outputs": [],
   "source": [
    "# Directory to save the files\n",
    "BASE_DIR = Path('quadrupole_data')\n",
    "BASE_DIR.mkdir(exist_ok=True)"
   ]
  },
  {
   "cell_type": "code",
   "execution_count": 3,
   "id": "6c83f33c",
   "metadata": {
    "tags": []
   },
   "outputs": [],
   "source": [
    "# Scan height, Scan area x and y, sensor half-legth x and y (meter)\n",
    "Hz, Sx, Sy, Sdx, Sdy = 2e-6, 20e-6, 20e-6, 0.1e-6, 0.1e-6\n",
    "Lx, Ly, Lz = Sx * 0.9, Sy * 0.9, 5e-6  # Sample lengths (meter)\n",
    "\n",
    "# Initialise class to create a sample (with user-defined or random particles)\n",
    "sample = MagneticSample(Hz, Sx, Sy, Sdx, Sdy, Lx, Ly, Lz)\n",
    "\n",
    "# Manually set the positions and dipole magnetic moments of two dipoles\n",
    "Ms = 4.8e5\n",
    "dipole_positions = np.array([[sample.Lx * 0.5 - 1e-6, sample.Ly * 0.5, -sample.Lz * 0.5],\n",
    "                             [sample.Lx * 0.5 + 1e-6, sample.Ly * 0.5, -sample.Lz * 0.5]])\n",
    "mu_s = Ms * (1 * 1e-18) * np.array([[0., 1., 0], [0., -1, 0]])\n",
    "volumes = np.array([1e-18, 1e-18])\n",
    "sample.generate_particles_from_array(dipole_positions, mu_s, volumes)\n",
    "\n",
    "# Generate the dip field: the Bz field flux through the measurement surface\n",
    "sample.generate_measurement_mesh()\n",
    "\n",
    "# Redefine positions to make a single particle at the centre (ideal quadrupole)\n",
    "sample.dipole_positions = np.array(\n",
    "    [[sample.Lx * 0.5, sample.Ly * 0.5, -sample.Lz * 0.5]])\n",
    "# Update the N of particles in the internal dict\n",
    "sample.N_particles = 1\n",
    "\n",
    "sample.save_data(filename='quadrupole_y-orientation', basedir=BASE_DIR)"
   ]
  },
  {
   "cell_type": "markdown",
   "id": "ed6b985e-f330-450b-bd1a-4ddcf43bdeba",
   "metadata": {},
   "source": [
    "Now we proceed to do the numerical inversions using two different basis for the multipole expansion. The fully orthogonal basis is the `spherical_harmonics_basis`, the other basis are for testing purposes."
   ]
  },
  {
   "cell_type": "code",
   "execution_count": 4,
   "id": "6773561a",
   "metadata": {
    "tags": []
   },
   "outputs": [
    {
     "name": "stdout",
     "output_type": "stream",
     "text": [
      "Parameter Sensor dimensions not found in json file\n",
      "Setting Sensor dimensions value to ()\n",
      "Scanning array size = 200 x 200\n",
      "Scanning array size = 200 x 200\n",
      "Generation of Q matrix took: 8.7405 s\n",
      "Using scipy.linalg.pinv for inversion\n",
      "Parameter Sensor dimensions not found in json file\n",
      "Setting Sensor dimensions value to ()\n",
      "Scanning array size = 200 x 200\n",
      "Scanning array size = 200 x 200\n",
      "Generation of Q matrix took: 0.2328 s\n",
      "Generating forward matrix\n",
      "Generation of Q matrix took: 8.1562 s\n",
      "Using scipy.linalg.pinv for inversion\n"
     ]
    }
   ],
   "source": [
    "# Inversions ------------------------------------------------------------------\n",
    "\n",
    "shinv = MultipoleInversion(BASE_DIR / './MetaDict_quadrupole_y-orientation.json',\n",
    "                           BASE_DIR / './MagneticSample_quadrupole_y-orientation.npz',\n",
    "                           expansion_limit='quadrupole',\n",
    "                           sus_functions_module='spherical_harmonics_basis')\n",
    "shinv.generate_measurement_mesh()\n",
    "shinv.generate_forward_matrix()\n",
    "shinv.compute_inversion(method='sp_pinv')\n",
    "\n",
    "mcinv = MultipoleInversion(BASE_DIR / './MetaDict_quadrupole_y-orientation.json',\n",
    "                           BASE_DIR / './MagneticSample_quadrupole_y-orientation.npz',\n",
    "                           expansion_limit='quadrupole',\n",
    "                           sus_functions_module='maxwell_cartesian_polynomials')\n",
    "mcinv.generate_measurement_mesh()\n",
    "shinv.generate_forward_matrix()\n",
    "mcinv.compute_inversion(method='sp_pinv')"
   ]
  },
  {
   "cell_type": "markdown",
   "id": "268f08c5",
   "metadata": {},
   "source": [
    "Here the stray field signal matrix, the inverted scan signal matrix $\\overline{\\mathbf{B}}_{z}^{\\text{inv}}$ and the residual~\\cite{Zhdanov2015} matrix\n",
    "\n",
    "\\begin{equation}\n",
    "    \\overline{\\mathbf{B}}_{z}^{\\text{res}}=\\overline{\\mathbf{B}}_{z}^{\\text{inv}} - \\overline{\\mathbf{B}}_{z}\n",
    "\\end{equation}\n",
    "\n",
    "are computed. The residual error can be quantified by the relative error\n",
    "\n",
    "\\begin{equation}\n",
    "B_{\\text{err}}=\\frac{\\left\\Vert \\overline{\\mathbf{B}}_{z}^{\\text{res}} \\right\\Vert_{F}}{\\left\\Vert \\overline{\\mathbf{B}}_{z}\\right\\Vert_{F}},\n",
    "\\end{equation}\n",
    "\n",
    "with $\\left\\Vert\\cdot\\right\\Vert_{F}$ denoting the Frobenius norm."
   ]
  },
  {
   "cell_type": "code",
   "execution_count": 5,
   "id": "dc8a3973",
   "metadata": {
    "tags": []
   },
   "outputs": [],
   "source": [
    "sh_invBzNorm = np.linalg.norm(shinv.inv_Bz_array, ord='fro')\n",
    "sh_BzNorm = np.linalg.norm(shinv.Bz_array, ord='fro')\n",
    "sh_RelErrResidual = np.linalg.norm(shinv.inv_Bz_array - shinv.Bz_array, ord='fro') / sh_BzNorm\n",
    "\n",
    "mc_invBzNorm = np.linalg.norm(mcinv.inv_Bz_array, ord='fro')\n",
    "mc_BzNorm = np.linalg.norm(mcinv.Bz_array, ord='fro')\n",
    "mc_RelErrResidual = np.linalg.norm(mcinv.inv_Bz_array - mcinv.Bz_array, ord='fro') / mc_BzNorm"
   ]
  },
  {
   "cell_type": "code",
   "execution_count": 6,
   "id": "77160d10-083b-4df5-b47c-034692b7e86a",
   "metadata": {
    "tags": []
   },
   "outputs": [
    {
     "name": "stdout",
     "output_type": "stream",
     "text": [
      "Computing relative error of inversions Berr using Frobenius norm\n"
     ]
    }
   ],
   "source": [
    "print('Computing relative error of inversions Berr using Frobenius norm')"
   ]
  },
  {
   "cell_type": "code",
   "execution_count": 7,
   "id": "163e415c",
   "metadata": {
    "tags": []
   },
   "outputs": [
    {
     "name": "stdout",
     "output_type": "stream",
     "text": [
      "Berr using Spherical Harmonics basis: 0.045167045672727\n"
     ]
    }
   ],
   "source": [
    "print(f'Berr using Spherical Harmonics basis: {sh_RelErrResidual:.15f}')"
   ]
  },
  {
   "cell_type": "code",
   "execution_count": 8,
   "id": "ee7eff6d",
   "metadata": {
    "tags": []
   },
   "outputs": [
    {
     "name": "stdout",
     "output_type": "stream",
     "text": [
      "Berr using Maxwell-Cartesian polynomials: 0.045167045672727\n"
     ]
    }
   ],
   "source": [
    "print(f'Berr using Maxwell-Cartesian polynomials: {mc_RelErrResidual:.15f}')"
   ]
  },
  {
   "cell_type": "code",
   "execution_count": null,
   "id": "510a0f55-73d2-488f-95f1-5d3979596dbe",
   "metadata": {},
   "outputs": [],
   "source": []
  }
 ],
 "metadata": {
  "jupytext": {
   "formats": "ipynb,py:percent"
  },
  "kernelspec": {
   "display_name": "Python 3 (ipykernel)",
   "language": "python",
   "name": "python3"
  },
  "language_info": {
   "codemirror_mode": {
    "name": "ipython",
    "version": 3
   },
   "file_extension": ".py",
   "mimetype": "text/x-python",
   "name": "python",
   "nbconvert_exporter": "python",
   "pygments_lexer": "ipython3",
   "version": "3.10.9"
  }
 },
 "nbformat": 4,
 "nbformat_minor": 5
}
